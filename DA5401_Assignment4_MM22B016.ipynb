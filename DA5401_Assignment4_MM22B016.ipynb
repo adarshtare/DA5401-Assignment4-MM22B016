{
  "nbformat": 4,
  "nbformat_minor": 0,
  "metadata": {
    "colab": {
      "provenance": []
    },
    "kernelspec": {
      "name": "python3",
      "display_name": "Python 3"
    },
    "language_info": {
      "name": "python"
    }
  },
  "cells": [
    {
      "cell_type": "markdown",
      "source": [
        "## **DA5401 Assignment 3**\n",
        "**Name - Adarsh Mahaveer Tare**\n",
        "\n",
        "**Roll No - MM22B016**\n",
        "\n",
        "\n",
        "### **Outline:**\n",
        "\n",
        "Part A: Baseline Model and Data Analysis\n",
        "\n",
        "Part B: Gaussian Mixture Model (GMM) for Synthetic Sampling\n",
        "\n",
        "Part C: Performance Evaluation and Conclusion"
      ],
      "metadata": {
        "id": "WP9Hw6BJRPRT"
      }
    },
    {
      "cell_type": "markdown",
      "source": [
        "## **Part A: Baseline Model and Data Analysis**"
      ],
      "metadata": {
        "id": "9zFZte8PQn5w"
      }
    },
    {
      "cell_type": "markdown",
      "source": [
        "### **Load dataset & check distribution**"
      ],
      "metadata": {
        "id": "di0H5R8mQt_y"
      }
    },
    {
      "cell_type": "code",
      "source": [
        "# Import required libraries\n",
        "import pandas as pd\n",
        "import matplotlib.pyplot as plt\n",
        "import seaborn as sns\n",
        "\n",
        "# Load the dataset\n",
        "data = pd.read_csv(\"creditcard.csv\")\n",
        "\n",
        "# Display first few rows\n",
        "display(data.head())\n",
        "\n",
        "# Check dataset shape\n",
        "print(\"\\nDataset shape:\", data.shape)\n",
        "\n",
        "# Check for null values\n",
        "print(\"\\nMissing values in each column:\")\n",
        "print(data.isnull().sum())\n",
        "\n",
        "# Print class distribution\n",
        "print(\"\\nClass Distribution:\")\n",
        "print(data['Class'].value_counts())\n",
        "\n",
        "# Visualize class imbalance\n",
        "plt.figure(figsize=(6,4))\n",
        "sns.countplot(x='Class', data=data)\n",
        "plt.title(\"Class Distribution (0 = Non-Fraud, 1 = Fraud)\")\n",
        "plt.show()\n"
      ],
      "metadata": {
        "colab": {
          "base_uri": "https://localhost:8080/",
          "height": 1000
        },
        "id": "Z3iqldpTQxKr",
        "outputId": "acbb3525-df68-4f9b-c04d-4ecfd67ba23b"
      },
      "execution_count": 44,
      "outputs": [
        {
          "output_type": "display_data",
          "data": {
            "text/plain": [
              "   Time        V1        V2        V3        V4        V5        V6        V7  \\\n",
              "0   0.0 -1.359807 -0.072781  2.536347  1.378155 -0.338321  0.462388  0.239599   \n",
              "1   0.0  1.191857  0.266151  0.166480  0.448154  0.060018 -0.082361 -0.078803   \n",
              "2   1.0 -1.358354 -1.340163  1.773209  0.379780 -0.503198  1.800499  0.791461   \n",
              "3   1.0 -0.966272 -0.185226  1.792993 -0.863291 -0.010309  1.247203  0.237609   \n",
              "4   2.0 -1.158233  0.877737  1.548718  0.403034 -0.407193  0.095921  0.592941   \n",
              "\n",
              "         V8        V9  ...       V21       V22       V23       V24       V25  \\\n",
              "0  0.098698  0.363787  ... -0.018307  0.277838 -0.110474  0.066928  0.128539   \n",
              "1  0.085102 -0.255425  ... -0.225775 -0.638672  0.101288 -0.339846  0.167170   \n",
              "2  0.247676 -1.514654  ...  0.247998  0.771679  0.909412 -0.689281 -0.327642   \n",
              "3  0.377436 -1.387024  ... -0.108300  0.005274 -0.190321 -1.175575  0.647376   \n",
              "4 -0.270533  0.817739  ... -0.009431  0.798278 -0.137458  0.141267 -0.206010   \n",
              "\n",
              "        V26       V27       V28  Amount  Class  \n",
              "0 -0.189115  0.133558 -0.021053  149.62      0  \n",
              "1  0.125895 -0.008983  0.014724    2.69      0  \n",
              "2 -0.139097 -0.055353 -0.059752  378.66      0  \n",
              "3 -0.221929  0.062723  0.061458  123.50      0  \n",
              "4  0.502292  0.219422  0.215153   69.99      0  \n",
              "\n",
              "[5 rows x 31 columns]"
            ],
            "text/html": [
              "\n",
              "  <div id=\"df-666f54b2-4732-4d68-b771-9a8dd3636792\" class=\"colab-df-container\">\n",
              "    <div>\n",
              "<style scoped>\n",
              "    .dataframe tbody tr th:only-of-type {\n",
              "        vertical-align: middle;\n",
              "    }\n",
              "\n",
              "    .dataframe tbody tr th {\n",
              "        vertical-align: top;\n",
              "    }\n",
              "\n",
              "    .dataframe thead th {\n",
              "        text-align: right;\n",
              "    }\n",
              "</style>\n",
              "<table border=\"1\" class=\"dataframe\">\n",
              "  <thead>\n",
              "    <tr style=\"text-align: right;\">\n",
              "      <th></th>\n",
              "      <th>Time</th>\n",
              "      <th>V1</th>\n",
              "      <th>V2</th>\n",
              "      <th>V3</th>\n",
              "      <th>V4</th>\n",
              "      <th>V5</th>\n",
              "      <th>V6</th>\n",
              "      <th>V7</th>\n",
              "      <th>V8</th>\n",
              "      <th>V9</th>\n",
              "      <th>...</th>\n",
              "      <th>V21</th>\n",
              "      <th>V22</th>\n",
              "      <th>V23</th>\n",
              "      <th>V24</th>\n",
              "      <th>V25</th>\n",
              "      <th>V26</th>\n",
              "      <th>V27</th>\n",
              "      <th>V28</th>\n",
              "      <th>Amount</th>\n",
              "      <th>Class</th>\n",
              "    </tr>\n",
              "  </thead>\n",
              "  <tbody>\n",
              "    <tr>\n",
              "      <th>0</th>\n",
              "      <td>0.0</td>\n",
              "      <td>-1.359807</td>\n",
              "      <td>-0.072781</td>\n",
              "      <td>2.536347</td>\n",
              "      <td>1.378155</td>\n",
              "      <td>-0.338321</td>\n",
              "      <td>0.462388</td>\n",
              "      <td>0.239599</td>\n",
              "      <td>0.098698</td>\n",
              "      <td>0.363787</td>\n",
              "      <td>...</td>\n",
              "      <td>-0.018307</td>\n",
              "      <td>0.277838</td>\n",
              "      <td>-0.110474</td>\n",
              "      <td>0.066928</td>\n",
              "      <td>0.128539</td>\n",
              "      <td>-0.189115</td>\n",
              "      <td>0.133558</td>\n",
              "      <td>-0.021053</td>\n",
              "      <td>149.62</td>\n",
              "      <td>0</td>\n",
              "    </tr>\n",
              "    <tr>\n",
              "      <th>1</th>\n",
              "      <td>0.0</td>\n",
              "      <td>1.191857</td>\n",
              "      <td>0.266151</td>\n",
              "      <td>0.166480</td>\n",
              "      <td>0.448154</td>\n",
              "      <td>0.060018</td>\n",
              "      <td>-0.082361</td>\n",
              "      <td>-0.078803</td>\n",
              "      <td>0.085102</td>\n",
              "      <td>-0.255425</td>\n",
              "      <td>...</td>\n",
              "      <td>-0.225775</td>\n",
              "      <td>-0.638672</td>\n",
              "      <td>0.101288</td>\n",
              "      <td>-0.339846</td>\n",
              "      <td>0.167170</td>\n",
              "      <td>0.125895</td>\n",
              "      <td>-0.008983</td>\n",
              "      <td>0.014724</td>\n",
              "      <td>2.69</td>\n",
              "      <td>0</td>\n",
              "    </tr>\n",
              "    <tr>\n",
              "      <th>2</th>\n",
              "      <td>1.0</td>\n",
              "      <td>-1.358354</td>\n",
              "      <td>-1.340163</td>\n",
              "      <td>1.773209</td>\n",
              "      <td>0.379780</td>\n",
              "      <td>-0.503198</td>\n",
              "      <td>1.800499</td>\n",
              "      <td>0.791461</td>\n",
              "      <td>0.247676</td>\n",
              "      <td>-1.514654</td>\n",
              "      <td>...</td>\n",
              "      <td>0.247998</td>\n",
              "      <td>0.771679</td>\n",
              "      <td>0.909412</td>\n",
              "      <td>-0.689281</td>\n",
              "      <td>-0.327642</td>\n",
              "      <td>-0.139097</td>\n",
              "      <td>-0.055353</td>\n",
              "      <td>-0.059752</td>\n",
              "      <td>378.66</td>\n",
              "      <td>0</td>\n",
              "    </tr>\n",
              "    <tr>\n",
              "      <th>3</th>\n",
              "      <td>1.0</td>\n",
              "      <td>-0.966272</td>\n",
              "      <td>-0.185226</td>\n",
              "      <td>1.792993</td>\n",
              "      <td>-0.863291</td>\n",
              "      <td>-0.010309</td>\n",
              "      <td>1.247203</td>\n",
              "      <td>0.237609</td>\n",
              "      <td>0.377436</td>\n",
              "      <td>-1.387024</td>\n",
              "      <td>...</td>\n",
              "      <td>-0.108300</td>\n",
              "      <td>0.005274</td>\n",
              "      <td>-0.190321</td>\n",
              "      <td>-1.175575</td>\n",
              "      <td>0.647376</td>\n",
              "      <td>-0.221929</td>\n",
              "      <td>0.062723</td>\n",
              "      <td>0.061458</td>\n",
              "      <td>123.50</td>\n",
              "      <td>0</td>\n",
              "    </tr>\n",
              "    <tr>\n",
              "      <th>4</th>\n",
              "      <td>2.0</td>\n",
              "      <td>-1.158233</td>\n",
              "      <td>0.877737</td>\n",
              "      <td>1.548718</td>\n",
              "      <td>0.403034</td>\n",
              "      <td>-0.407193</td>\n",
              "      <td>0.095921</td>\n",
              "      <td>0.592941</td>\n",
              "      <td>-0.270533</td>\n",
              "      <td>0.817739</td>\n",
              "      <td>...</td>\n",
              "      <td>-0.009431</td>\n",
              "      <td>0.798278</td>\n",
              "      <td>-0.137458</td>\n",
              "      <td>0.141267</td>\n",
              "      <td>-0.206010</td>\n",
              "      <td>0.502292</td>\n",
              "      <td>0.219422</td>\n",
              "      <td>0.215153</td>\n",
              "      <td>69.99</td>\n",
              "      <td>0</td>\n",
              "    </tr>\n",
              "  </tbody>\n",
              "</table>\n",
              "<p>5 rows × 31 columns</p>\n",
              "</div>\n",
              "    <div class=\"colab-df-buttons\">\n",
              "\n",
              "  <div class=\"colab-df-container\">\n",
              "    <button class=\"colab-df-convert\" onclick=\"convertToInteractive('df-666f54b2-4732-4d68-b771-9a8dd3636792')\"\n",
              "            title=\"Convert this dataframe to an interactive table.\"\n",
              "            style=\"display:none;\">\n",
              "\n",
              "  <svg xmlns=\"http://www.w3.org/2000/svg\" height=\"24px\" viewBox=\"0 -960 960 960\">\n",
              "    <path d=\"M120-120v-720h720v720H120Zm60-500h600v-160H180v160Zm220 220h160v-160H400v160Zm0 220h160v-160H400v160ZM180-400h160v-160H180v160Zm440 0h160v-160H620v160ZM180-180h160v-160H180v160Zm440 0h160v-160H620v160Z\"/>\n",
              "  </svg>\n",
              "    </button>\n",
              "\n",
              "  <style>\n",
              "    .colab-df-container {\n",
              "      display:flex;\n",
              "      gap: 12px;\n",
              "    }\n",
              "\n",
              "    .colab-df-convert {\n",
              "      background-color: #E8F0FE;\n",
              "      border: none;\n",
              "      border-radius: 50%;\n",
              "      cursor: pointer;\n",
              "      display: none;\n",
              "      fill: #1967D2;\n",
              "      height: 32px;\n",
              "      padding: 0 0 0 0;\n",
              "      width: 32px;\n",
              "    }\n",
              "\n",
              "    .colab-df-convert:hover {\n",
              "      background-color: #E2EBFA;\n",
              "      box-shadow: 0px 1px 2px rgba(60, 64, 67, 0.3), 0px 1px 3px 1px rgba(60, 64, 67, 0.15);\n",
              "      fill: #174EA6;\n",
              "    }\n",
              "\n",
              "    .colab-df-buttons div {\n",
              "      margin-bottom: 4px;\n",
              "    }\n",
              "\n",
              "    [theme=dark] .colab-df-convert {\n",
              "      background-color: #3B4455;\n",
              "      fill: #D2E3FC;\n",
              "    }\n",
              "\n",
              "    [theme=dark] .colab-df-convert:hover {\n",
              "      background-color: #434B5C;\n",
              "      box-shadow: 0px 1px 3px 1px rgba(0, 0, 0, 0.15);\n",
              "      filter: drop-shadow(0px 1px 2px rgba(0, 0, 0, 0.3));\n",
              "      fill: #FFFFFF;\n",
              "    }\n",
              "  </style>\n",
              "\n",
              "    <script>\n",
              "      const buttonEl =\n",
              "        document.querySelector('#df-666f54b2-4732-4d68-b771-9a8dd3636792 button.colab-df-convert');\n",
              "      buttonEl.style.display =\n",
              "        google.colab.kernel.accessAllowed ? 'block' : 'none';\n",
              "\n",
              "      async function convertToInteractive(key) {\n",
              "        const element = document.querySelector('#df-666f54b2-4732-4d68-b771-9a8dd3636792');\n",
              "        const dataTable =\n",
              "          await google.colab.kernel.invokeFunction('convertToInteractive',\n",
              "                                                    [key], {});\n",
              "        if (!dataTable) return;\n",
              "\n",
              "        const docLinkHtml = 'Like what you see? Visit the ' +\n",
              "          '<a target=\"_blank\" href=https://colab.research.google.com/notebooks/data_table.ipynb>data table notebook</a>'\n",
              "          + ' to learn more about interactive tables.';\n",
              "        element.innerHTML = '';\n",
              "        dataTable['output_type'] = 'display_data';\n",
              "        await google.colab.output.renderOutput(dataTable, element);\n",
              "        const docLink = document.createElement('div');\n",
              "        docLink.innerHTML = docLinkHtml;\n",
              "        element.appendChild(docLink);\n",
              "      }\n",
              "    </script>\n",
              "  </div>\n",
              "\n",
              "\n",
              "    <div id=\"df-4ad830be-898a-4c12-82e8-7dcb25f06246\">\n",
              "      <button class=\"colab-df-quickchart\" onclick=\"quickchart('df-4ad830be-898a-4c12-82e8-7dcb25f06246')\"\n",
              "                title=\"Suggest charts\"\n",
              "                style=\"display:none;\">\n",
              "\n",
              "<svg xmlns=\"http://www.w3.org/2000/svg\" height=\"24px\"viewBox=\"0 0 24 24\"\n",
              "     width=\"24px\">\n",
              "    <g>\n",
              "        <path d=\"M19 3H5c-1.1 0-2 .9-2 2v14c0 1.1.9 2 2 2h14c1.1 0 2-.9 2-2V5c0-1.1-.9-2-2-2zM9 17H7v-7h2v7zm4 0h-2V7h2v10zm4 0h-2v-4h2v4z\"/>\n",
              "    </g>\n",
              "</svg>\n",
              "      </button>\n",
              "\n",
              "<style>\n",
              "  .colab-df-quickchart {\n",
              "      --bg-color: #E8F0FE;\n",
              "      --fill-color: #1967D2;\n",
              "      --hover-bg-color: #E2EBFA;\n",
              "      --hover-fill-color: #174EA6;\n",
              "      --disabled-fill-color: #AAA;\n",
              "      --disabled-bg-color: #DDD;\n",
              "  }\n",
              "\n",
              "  [theme=dark] .colab-df-quickchart {\n",
              "      --bg-color: #3B4455;\n",
              "      --fill-color: #D2E3FC;\n",
              "      --hover-bg-color: #434B5C;\n",
              "      --hover-fill-color: #FFFFFF;\n",
              "      --disabled-bg-color: #3B4455;\n",
              "      --disabled-fill-color: #666;\n",
              "  }\n",
              "\n",
              "  .colab-df-quickchart {\n",
              "    background-color: var(--bg-color);\n",
              "    border: none;\n",
              "    border-radius: 50%;\n",
              "    cursor: pointer;\n",
              "    display: none;\n",
              "    fill: var(--fill-color);\n",
              "    height: 32px;\n",
              "    padding: 0;\n",
              "    width: 32px;\n",
              "  }\n",
              "\n",
              "  .colab-df-quickchart:hover {\n",
              "    background-color: var(--hover-bg-color);\n",
              "    box-shadow: 0 1px 2px rgba(60, 64, 67, 0.3), 0 1px 3px 1px rgba(60, 64, 67, 0.15);\n",
              "    fill: var(--button-hover-fill-color);\n",
              "  }\n",
              "\n",
              "  .colab-df-quickchart-complete:disabled,\n",
              "  .colab-df-quickchart-complete:disabled:hover {\n",
              "    background-color: var(--disabled-bg-color);\n",
              "    fill: var(--disabled-fill-color);\n",
              "    box-shadow: none;\n",
              "  }\n",
              "\n",
              "  .colab-df-spinner {\n",
              "    border: 2px solid var(--fill-color);\n",
              "    border-color: transparent;\n",
              "    border-bottom-color: var(--fill-color);\n",
              "    animation:\n",
              "      spin 1s steps(1) infinite;\n",
              "  }\n",
              "\n",
              "  @keyframes spin {\n",
              "    0% {\n",
              "      border-color: transparent;\n",
              "      border-bottom-color: var(--fill-color);\n",
              "      border-left-color: var(--fill-color);\n",
              "    }\n",
              "    20% {\n",
              "      border-color: transparent;\n",
              "      border-left-color: var(--fill-color);\n",
              "      border-top-color: var(--fill-color);\n",
              "    }\n",
              "    30% {\n",
              "      border-color: transparent;\n",
              "      border-left-color: var(--fill-color);\n",
              "      border-top-color: var(--fill-color);\n",
              "      border-right-color: var(--fill-color);\n",
              "    }\n",
              "    40% {\n",
              "      border-color: transparent;\n",
              "      border-right-color: var(--fill-color);\n",
              "      border-top-color: var(--fill-color);\n",
              "    }\n",
              "    60% {\n",
              "      border-color: transparent;\n",
              "      border-right-color: var(--fill-color);\n",
              "    }\n",
              "    80% {\n",
              "      border-color: transparent;\n",
              "      border-right-color: var(--fill-color);\n",
              "      border-bottom-color: var(--fill-color);\n",
              "    }\n",
              "    90% {\n",
              "      border-color: transparent;\n",
              "      border-bottom-color: var(--fill-color);\n",
              "    }\n",
              "  }\n",
              "</style>\n",
              "\n",
              "      <script>\n",
              "        async function quickchart(key) {\n",
              "          const quickchartButtonEl =\n",
              "            document.querySelector('#' + key + ' button');\n",
              "          quickchartButtonEl.disabled = true;  // To prevent multiple clicks.\n",
              "          quickchartButtonEl.classList.add('colab-df-spinner');\n",
              "          try {\n",
              "            const charts = await google.colab.kernel.invokeFunction(\n",
              "                'suggestCharts', [key], {});\n",
              "          } catch (error) {\n",
              "            console.error('Error during call to suggestCharts:', error);\n",
              "          }\n",
              "          quickchartButtonEl.classList.remove('colab-df-spinner');\n",
              "          quickchartButtonEl.classList.add('colab-df-quickchart-complete');\n",
              "        }\n",
              "        (() => {\n",
              "          let quickchartButtonEl =\n",
              "            document.querySelector('#df-4ad830be-898a-4c12-82e8-7dcb25f06246 button');\n",
              "          quickchartButtonEl.style.display =\n",
              "            google.colab.kernel.accessAllowed ? 'block' : 'none';\n",
              "        })();\n",
              "      </script>\n",
              "    </div>\n",
              "\n",
              "    </div>\n",
              "  </div>\n"
            ],
            "application/vnd.google.colaboratory.intrinsic+json": {
              "type": "dataframe"
            }
          },
          "metadata": {}
        },
        {
          "output_type": "stream",
          "name": "stdout",
          "text": [
            "\n",
            "Dataset shape: (284807, 31)\n",
            "\n",
            "Missing values in each column:\n",
            "Time      0\n",
            "V1        0\n",
            "V2        0\n",
            "V3        0\n",
            "V4        0\n",
            "V5        0\n",
            "V6        0\n",
            "V7        0\n",
            "V8        0\n",
            "V9        0\n",
            "V10       0\n",
            "V11       0\n",
            "V12       0\n",
            "V13       0\n",
            "V14       0\n",
            "V15       0\n",
            "V16       0\n",
            "V17       0\n",
            "V18       0\n",
            "V19       0\n",
            "V20       0\n",
            "V21       0\n",
            "V22       0\n",
            "V23       0\n",
            "V24       0\n",
            "V25       0\n",
            "V26       0\n",
            "V27       0\n",
            "V28       0\n",
            "Amount    0\n",
            "Class     0\n",
            "dtype: int64\n",
            "\n",
            "Class Distribution:\n",
            "Class\n",
            "0    284315\n",
            "1       492\n",
            "Name: count, dtype: int64\n"
          ]
        },
        {
          "output_type": "display_data",
          "data": {
            "text/plain": [
              "<Figure size 600x400 with 1 Axes>"
            ],
            "image/png": "[encoded data removed]"
          },
          "metadata": {}
        }
      ]
    },
    {
      "cell_type": "markdown",
      "source": [
        "### **Train-test split maintaining imbalance**"
      ],
      "metadata": {
        "id": "FYYNcsWzRAja"
      }
    },
    {
      "cell_type": "code",
      "source": [
        "from sklearn.model_selection import train_test_split\n",
        "\n",
        "# Separate features and target\n",
        "X = data.drop('Class', axis=1)\n",
        "y = data['Class']\n",
        "\n",
        "# Split the data (keeping test set representative of imbalance)\n",
        "X_train, X_test, y_train, y_test = train_test_split(\n",
        "    X, y, test_size=0.3, random_state=42, stratify=y\n",
        ")\n",
        "\n",
        "print(\"Training set shape:\", X_train.shape)\n",
        "print(\"Testing set shape:\", X_test.shape)\n",
        "print(\"\\nFraud cases in training set:\", sum(y_train))\n",
        "print(\"Fraud cases in test set:\", sum(y_test))\n"
      ],
      "metadata": {
        "colab": {
          "base_uri": "https://localhost:8080/"
        },
        "id": "7pW89HtlRD6H",
        "outputId": "4380cba3-111e-43b6-8d13-240abdb58262"
      },
      "execution_count": 45,
      "outputs": [
        {
          "output_type": "stream",
          "name": "stdout",
          "text": [
            "Training set shape: (199364, 30)\n",
            "Testing set shape: (85443, 30)\n",
            "\n",
            "Fraud cases in training set: 344\n",
            "Fraud cases in test set: 148\n"
          ]
        }
      ]
    },
    {
      "cell_type": "markdown",
      "source": [
        "### **Train Logistic Regression on imbalanced data**"
      ],
      "metadata": {
        "id": "S-wgMD-2RGrk"
      }
    },
    {
      "cell_type": "code",
      "source": [
        "from sklearn.linear_model import LogisticRegression\n",
        "\n",
        "# Initialize Logistic Regression\n",
        "log_reg = LogisticRegression(max_iter=1000, random_state=42)\n",
        "\n",
        "# Train on imbalanced dataset\n",
        "log_reg.fit(X_train, y_train)\n",
        "\n",
        "print(\"Baseline Logistic Regression model trained successfully.\")\n"
      ],
      "metadata": {
        "colab": {
          "base_uri": "https://localhost:8080/"
        },
        "id": "E3vrEwyZRNlw",
        "outputId": "d3051574-3614-47f4-e6ba-4f63a6214a35"
      },
      "execution_count": 46,
      "outputs": [
        {
          "output_type": "stream",
          "name": "stdout",
          "text": [
            "Baseline Logistic Regression model trained successfully.\n"
          ]
        },
        {
          "output_type": "stream",
          "name": "stderr",
          "text": [
            "/usr/local/lib/python3.12/dist-packages/sklearn/linear_model/_logistic.py:465: ConvergenceWarning: lbfgs failed to converge (status=1):\n",
            "STOP: TOTAL NO. OF ITERATIONS REACHED LIMIT.\n",
            "\n",
            "Increase the number of iterations (max_iter) or scale the data as shown in:\n",
            "    https://scikit-learn.org/stable/modules/preprocessing.html\n",
            "Please also refer to the documentation for alternative solver options:\n",
            "    https://scikit-learn.org/stable/modules/linear_model.html#logistic-regression\n",
            "  n_iter_i = _check_optimize_result(\n"
          ]
        }
      ]
    },
    {
      "cell_type": "markdown",
      "source": [
        "### **Model evaluation**"
      ],
      "metadata": {
        "id": "YDXl17FwRYlH"
      }
    },
    {
      "cell_type": "code",
      "source": [
        "from sklearn.metrics import classification_report, confusion_matrix\n",
        "\n",
        "# Predictions on test set\n",
        "y_pred = log_reg.predict(X_test)\n",
        "\n",
        "# Confusion Matrix\n",
        "print(\"Confusion Matrix:\")\n",
        "print(confusion_matrix(y_test, y_pred))\n",
        "\n",
        "# Detailed Classification Report\n",
        "print(\"\\nClassification Report:\")\n",
        "print(classification_report(y_test, y_pred, digits=4))\n"
      ],
      "metadata": {
        "colab": {
          "base_uri": "https://localhost:8080/"
        },
        "id": "dRUq1gnxRcZo",
        "outputId": "fbfff9e2-49f7-4531-88f0-c5c99c448708"
      },
      "execution_count": 47,
      "outputs": [
        {
          "output_type": "stream",
          "name": "stdout",
          "text": [
            "Confusion Matrix:\n",
            "[[85276    19]\n",
            " [   51    97]]\n",
            "\n",
            "Classification Report:\n",
            "              precision    recall  f1-score   support\n",
            "\n",
            "           0     0.9994    0.9998    0.9996     85295\n",
            "           1     0.8362    0.6554    0.7348       148\n",
            "\n",
            "    accuracy                         0.9992     85443\n",
            "   macro avg     0.9178    0.8276    0.8672     85443\n",
            "weighted avg     0.9991    0.9992    0.9991     85443\n",
            "\n"
          ]
        }
      ]
    },
    {
      "cell_type": "markdown",
      "source": [
        "**Explanation**\n",
        "\n",
        "**Accuracy is not a reliable metric in highly imbalanced datasets.**\n",
        "\n",
        "* Since fraud cases are extremely rare, a model predicting all transactions as “non-fraud” would achieve very high accuracy but completely fail at identifying fraud.\n",
        "\n",
        "* Precision (how many predicted frauds are actually fraud) and Recall (how many real frauds are correctly identified) are far more useful.\n",
        "\n",
        "* F1-score, the harmonic mean of Precision and Recall, balances both metrics and is the best measure when both false positives and false negatives matter."
      ],
      "metadata": {
        "id": "W6sQYlnzRfdd"
      }
    },
    {
      "cell_type": "markdown",
      "source": [
        "## **Part B: Gaussian Mixture Model (GMM) for Synthetic Sampling**"
      ],
      "metadata": {
        "id": "SgUtrb0RTzcz"
      }
    },
    {
      "cell_type": "markdown",
      "source": [
        "**Theoretical Foundation: GMM vs SMOTE**\n",
        "\n",
        "- **SMOTE**: Creates synthetic points by interpolating between neighbors. Simple, but may cross class boundaries and assumes convex clusters.\n",
        "- **GMM**: Learns a probabilistic model of the minority class (mixture of Gaussians). Each Gaussian captures local structure with mean & covariance.\n",
        "- GMM handles multiple sub-groups and correlations between features better.\n",
        "- Useful when minority class is multimodal or complex. More realistic than SMOTE, though requires tuning (number of components).\n"
      ],
      "metadata": {
        "id": "MJt4DsJJTudC"
      }
    },
    {
      "cell_type": "markdown",
      "source": [
        "## **Prepare minority & majority sets**"
      ],
      "metadata": {
        "id": "pLoHd7hMUXCX"
      }
    },
    {
      "cell_type": "code",
      "source": [
        "import numpy as np\n",
        "import pandas as pd\n",
        "from sklearn.preprocessing import StandardScaler\n",
        "\n",
        "# Step 1: Separate minority and majority samples from training data\n",
        "X_train_min = X_train[y_train == 1].copy()   # Fraudulent transactions (minority)\n",
        "X_train_maj = X_train[y_train == 0].copy()   # Non-fraudulent transactions (majority)\n",
        "\n",
        "# Count samples in each group\n",
        "n_min, n_maj = len(X_train_min), len(X_train_maj)\n",
        "print(\"Minority samples:\", n_min)\n",
        "print(\"Majority samples:\", n_maj)\n",
        "\n",
        "# Step 2: Feature Scaling\n",
        "# GMM assumes continuous distributions; scaling helps to normalize features\n",
        "scaler = StandardScaler()\n",
        "scaler.fit(X_train)   # Fit scaler on training data\n",
        "\n",
        "# Transform both minority and majority training sets\n",
        "X_train_min_s = scaler.transform(X_train_min)\n",
        "X_train_maj_s = scaler.transform(X_train_maj)\n",
        "\n",
        "print(\"Scaling complete. Scaled minority shape:\", X_train_min_s.shape)\n"
      ],
      "metadata": {
        "colab": {
          "base_uri": "https://localhost:8080/"
        },
        "id": "YgN_Ew8yUSzB",
        "outputId": "4a0ee08d-ce6b-446f-f429-0d33f14b00c6"
      },
      "execution_count": 48,
      "outputs": [
        {
          "output_type": "stream",
          "name": "stdout",
          "text": [
            "Minority samples: 344\n",
            "Majority samples: 199020\n",
            "Scaling complete. Scaled minority shape: (344, 30)\n"
          ]
        }
      ]
    },
    {
      "cell_type": "markdown",
      "source": [
        "## **Fit GMM & choose best k**"
      ],
      "metadata": {
        "id": "d_7vOMoMUZeU"
      }
    },
    {
      "cell_type": "code",
      "source": [
        "from sklearn.mixture import GaussianMixture\n",
        "import matplotlib.pyplot as plt\n",
        "\n",
        "# Step 1: Define range of possible components (k)\n",
        "k_range = range(1, 11)  # Trying 1 to 10 components\n",
        "bics, aics, gmm_models = [], [], {}\n",
        "\n",
        "# Step 2: Fit GMM for each k and record BIC/AIC\n",
        "for k in k_range:\n",
        "    gmm = GaussianMixture(\n",
        "        n_components=k,\n",
        "        covariance_type='full',   # Full covariance matrices\n",
        "        random_state=42,\n",
        "        n_init=5,                 # Multiple initializations\n",
        "        max_iter=200\n",
        "    )\n",
        "    gmm.fit(X_train_min_s)\n",
        "\n",
        "    bics.append(gmm.bic(X_train_min_s))   # Bayesian Information Criterion\n",
        "    aics.append(gmm.aic(X_train_min_s))   # Akaike Information Criterion\n",
        "    gmm_models[k] = gmm\n",
        "\n",
        "    print(f\"k={k}, BIC={bics[-1]:.1f}, AIC={aics[-1]:.1f}\")\n",
        "\n",
        "# --- Step 3: Plot BIC/AIC to visualize best k ---\n",
        "plt.plot(k_range, bics, marker='o', label='BIC')\n",
        "plt.plot(k_range, aics, marker='s', label='AIC')\n",
        "plt.xlabel(\"Number of GMM components (k)\")\n",
        "plt.ylabel(\"Score\")\n",
        "plt.legend()\n",
        "plt.title(\"BIC/AIC vs Number of GMM Components\")\n",
        "plt.show()\n",
        "\n",
        "# --- Step 4: Choose best k using BIC ---\n",
        "best_k = k_range[int(np.argmin(bics))]\n",
        "best_gmm = gmm_models[best_k]\n",
        "print(\"Best k chosen by BIC:\", best_k)\n"
      ],
      "metadata": {
        "colab": {
          "base_uri": "https://localhost:8080/",
          "height": 663
        },
        "id": "dUq9v0GZUgos",
        "outputId": "5c566f94-d783-4ccd-e9cc-131286a6b86e"
      },
      "execution_count": 49,
      "outputs": [
        {
          "output_type": "stream",
          "name": "stdout",
          "text": [
            "k=1, BIC=34906.7, AIC=33005.6\n",
            "k=2, BIC=29013.3, AIC=25207.2\n",
            "k=3, BIC=22227.7, AIC=16516.7\n",
            "k=4, BIC=24331.1, AIC=16715.1\n",
            "k=5, BIC=23897.8, AIC=14376.9\n",
            "k=6, BIC=22646.4, AIC=11220.5\n",
            "k=7, BIC=23424.5, AIC=10093.6\n",
            "k=8, BIC=25310.0, AIC=10074.2\n",
            "k=9, BIC=26185.8, AIC=9045.0\n",
            "k=10, BIC=25683.2, AIC=6637.4\n"
          ]
        },
        {
          "output_type": "display_data",
          "data": {
            "text/plain": [
              "<Figure size 640x480 with 1 Axes>"
            ],
            "image/png": "[encoded data removed]"
          },
          "metadata": {}
        },
        {
          "output_type": "stream",
          "name": "stdout",
          "text": [
            "Best k chosen by BIC: 3\n"
          ]
        }
      ]
    },
    {
      "cell_type": "markdown",
      "source": [
        " **Choosing k**\n",
        "\n",
        "- Tried k = 1 to 10 components.  \n",
        "- Computed **BIC** and **AIC** for each.  \n",
        "- Picked the k with the **lowest BIC** (balances fit and simplicity).  \n"
      ],
      "metadata": {
        "id": "a3CUb36BUgXe"
      }
    },
    {
      "cell_type": "markdown",
      "source": [
        "### **Generate synthetic samples**"
      ],
      "metadata": {
        "id": "2gNeLfp2UdHN"
      }
    },
    {
      "cell_type": "code",
      "source": [
        "# Step 1: Decide how many synthetic samples to generate\n",
        "undersample_factor = 4                     # Desired ratio of majority to minority\n",
        "target_majority_size = int(n_min * undersample_factor)  # New target for majority class\n",
        "\n",
        "# Number of synthetic minority samples needed to match target\n",
        "n_to_generate = max(0, target_majority_size - n_min)\n",
        "print(\"Synthetic samples needed:\", n_to_generate)\n",
        "\n",
        "# Step 2: Generate synthetic samples using GMM\n",
        "if n_to_generate > 0:\n",
        "    # gmm.sample() gives samples in scaled space\n",
        "    sampled_s, _ = best_gmm.sample(n_samples=n_to_generate)\n",
        "\n",
        "    # Inverse transform back to original feature space\n",
        "    sampled = scaler.inverse_transform(sampled_s)\n",
        "\n",
        "    # Store in DataFrame for easy merging\n",
        "    sampled_df = pd.DataFrame(sampled, columns=X_train.columns)\n",
        "    print(\"Generated synthetic minority samples:\", sampled_df.shape)\n",
        "else:\n",
        "    sampled_df = pd.DataFrame(columns=X_train.columns)\n",
        "    print(\"No synthetic samples needed.\")\n"
      ],
      "metadata": {
        "colab": {
          "base_uri": "https://localhost:8080/"
        },
        "id": "eh0rrqE5UwhA",
        "outputId": "b8e51bf5-050d-420e-d5a7-1bf6b8b6baf9"
      },
      "execution_count": 50,
      "outputs": [
        {
          "output_type": "stream",
          "name": "stdout",
          "text": [
            "Synthetic samples needed: 1032\n",
            "Generated synthetic minority samples: (1032, 30)\n"
          ]
        }
      ]
    },
    {
      "cell_type": "markdown",
      "source": [
        " **Sampling from GMM**\n",
        "\n",
        "1. Choose a Gaussian component based on mixture weights.  \n",
        "2. Sample a point from its multivariate normal distribution.  \n",
        "3. Repeat until required number of samples is generated.  \n"
      ],
      "metadata": {
        "id": "spZ6XVO-U7Ur"
      }
    },
    {
      "cell_type": "markdown",
      "source": [
        "### **Clustering-Based Undersampling**"
      ],
      "metadata": {
        "id": "zZHSst1BVAr6"
      }
    },
    {
      "cell_type": "code",
      "source": [
        "from sklearn.cluster import KMeans\n",
        "\n",
        "# Step 1: Choose number of clusters for majority class\n",
        "c = int(min(50, max(10, int(np.sqrt(n_maj)))))  # Heuristic: sqrt(n_majority), capped at 50\n",
        "print(\"Using\", c, \"clusters for majority class.\")\n",
        "\n",
        "# Step 2: Fit KMeans on majority samples\n",
        "kmeans = KMeans(n_clusters=c, random_state=42, n_init=10)\n",
        "maj_labels = kmeans.fit_predict(X_train_maj_s)\n",
        "\n",
        "# Create DataFrame with cluster assignments\n",
        "maj_df = pd.DataFrame(X_train_maj, columns=X_train.columns)\n",
        "maj_df['cluster'] = maj_labels\n",
        "\n",
        "# Step 3: Allocate how many samples to keep per cluster\n",
        "cluster_counts = maj_df['cluster'].value_counts().sort_index()\n",
        "cluster_props = cluster_counts / cluster_counts.sum()\n",
        "\n",
        "alloc_float = cluster_props * target_majority_size\n",
        "alloc_floor = np.floor(alloc_float).astype(int)\n",
        "remaining = target_majority_size - alloc_floor.sum()\n",
        "\n",
        "# Distribute remainder to clusters with highest fractional part\n",
        "fractional = alloc_float - alloc_floor\n",
        "for idx in fractional.sort_values(ascending=False).index[:remaining]:\n",
        "    alloc_floor.loc[idx] += 1\n",
        "\n",
        "# Step 4: Sample from each cluster\n",
        "reduced_maj_samples = []\n",
        "for cluster_id, to_keep in alloc_floor.items():\n",
        "    subset = maj_df[maj_df['cluster'] == cluster_id].sample(\n",
        "        n=to_keep, random_state=42, replace=False\n",
        "    )\n",
        "    reduced_maj_samples.append(subset.drop(columns='cluster'))\n",
        "\n",
        "# Final reduced majority set\n",
        "reduced_maj_df = pd.concat(reduced_maj_samples, ignore_index=True)\n",
        "print(\"Reduced majority size:\", reduced_maj_df.shape)\n"
      ],
      "metadata": {
        "colab": {
          "base_uri": "https://localhost:8080/"
        },
        "id": "DqCWKVWdU5fg",
        "outputId": "70a12308-fd41-4375-bd16-74162dd997b7"
      },
      "execution_count": 51,
      "outputs": [
        {
          "output_type": "stream",
          "name": "stdout",
          "text": [
            "Using 50 clusters for majority class.\n",
            "Reduced majority size: (1376, 30)\n"
          ]
        }
      ]
    },
    {
      "cell_type": "markdown",
      "source": [
        "** Clustering-Based Undersampling (CBU)**\n",
        "\n",
        "- Clustered majority class with KMeans.  \n",
        "- Kept samples proportional to each cluster’s size.  \n",
        "- Ensures diversity and avoids dropping rare regions.  \n"
      ],
      "metadata": {
        "id": "CRYlIXlcVI-o"
      }
    },
    {
      "cell_type": "markdown",
      "source": [
        "### **Final Balanced Dataset**"
      ],
      "metadata": {
        "id": "yKNo82dJVSKY"
      }
    },
    {
      "cell_type": "code",
      "source": [
        "# Step 1: Combine minority (original + synthetic)\n",
        "aug_min_df = pd.concat([X_train_min.reset_index(drop=True), sampled_df], ignore_index=True)\n",
        "\n",
        "# Step 2: Adjust minority to match reduced majority\n",
        "if aug_min_df.shape[0] > reduced_maj_df.shape[0]:\n",
        "    # Downsample minority to match\n",
        "    aug_min_df = aug_min_df.sample(n=reduced_maj_df.shape[0], random_state=42)\n",
        "elif aug_min_df.shape[0] < reduced_maj_df.shape[0]:\n",
        "    # If still smaller, generate more synthetic points\n",
        "    needed = reduced_maj_df.shape[0] - aug_min_df.shape[0]\n",
        "    sampled_s2, _ = best_gmm.sample(n_samples=needed)\n",
        "    sampled2 = scaler.inverse_transform(sampled_s2)\n",
        "    sampled2_df = pd.DataFrame(sampled2, columns=X_train.columns)\n",
        "    aug_min_df = pd.concat([aug_min_df, sampled2_df], ignore_index=True)\n",
        "\n",
        "# --- Step 3: Create final balanced dataset ---\n",
        "balanced_X_train = pd.concat([reduced_maj_df, aug_min_df], ignore_index=True)\n",
        "balanced_y_train = pd.Series([0]*len(reduced_maj_df) + [1]*len(aug_min_df))\n",
        "\n",
        "print(\"Balanced training set shape:\", balanced_X_train.shape)\n",
        "print(\"Class counts:\", balanced_y_train.value_counts().to_dict())\n"
      ],
      "metadata": {
        "colab": {
          "base_uri": "https://localhost:8080/"
        },
        "id": "B0husOZRVIJS",
        "outputId": "51523d62-fc12-453e-f38c-7a817ed6c5aa"
      },
      "execution_count": 52,
      "outputs": [
        {
          "output_type": "stream",
          "name": "stdout",
          "text": [
            "Balanced training set shape: (2752, 30)\n",
            "Class counts: {0: 1376, 1: 1376}\n"
          ]
        }
      ]
    },
    {
      "cell_type": "markdown",
      "source": [
        "**Summary of Part B**\n",
        "\n",
        "- Fitted GMM on minority samples and picked k using BIC.  \n",
        "- Generated synthetic fraud samples using the GMM.  \n",
        "- Reduced majority class with CBU to keep diversity.  \n",
        "- Combined both → Final balanced dataset ready for Part C.  \n"
      ],
      "metadata": {
        "id": "l_8hgSCAVVpS"
      }
    },
    {
      "cell_type": "markdown",
      "source": [
        "## **Part C: Performance Evaluation and Conclusion**"
      ],
      "metadata": {
        "id": "7TK3tz9UV15y"
      }
    },
    {
      "cell_type": "markdown",
      "source": [
        "\n",
        " **Train three Logistic Regression models:**\n",
        "  1) Baseline (trained on imbalanced data)\n",
        "  2) GMM-only oversampling (minority oversampled to match original majority)\n",
        "  3) GMM + CBU (reduced majority + synthetic minority) — from Part B\n",
        "\n",
        "- Evaluate all on the original imbalanced test set and compare Precision, Recall, F1 for the minority (fraud) class.\n",
        "- Summarize results with a table and bar chart, then discuss and give a final recommendation.\n"
      ],
      "metadata": {
        "id": "3KV-c1yQWniu"
      }
    },
    {
      "cell_type": "markdown",
      "source": [
        "### **Ensure baseline model exists (train if not)**"
      ],
      "metadata": {
        "id": "bd6beG7DWxQJ"
      }
    },
    {
      "cell_type": "code",
      "source": [
        "# Ensure baseline model exists: if not present, train it on imbalanced training data\n",
        "from sklearn.linear_model import LogisticRegression\n",
        "\n",
        "# If log_reg already in the notebook, use it; otherwise train a fresh baseline on X_train / y_train\n",
        "try:\n",
        "    log_reg  # check existence\n",
        "    print(\"Baseline model 'log_reg' already exists in the session. Using existing model.\")\n",
        "except NameError:\n",
        "    # Train a baseline logistic regression on the original imbalanced training set\n",
        "    print(\"Baseline model not found — training LogisticRegression on imbalanced training data.\")\n",
        "    log_reg = LogisticRegression(max_iter=1000, random_state=42)\n",
        "    log_reg.fit(X_train, y_train)\n",
        "    print(\"Baseline trained.\")\n"
      ],
      "metadata": {
        "colab": {
          "base_uri": "https://localhost:8080/"
        },
        "id": "WQNYIekxV8ET",
        "outputId": "c5f3418b-c5ac-48de-f074-436285d83278"
      },
      "execution_count": 53,
      "outputs": [
        {
          "output_type": "stream",
          "name": "stdout",
          "text": [
            "Baseline model 'log_reg' already exists in the session. Using existing model.\n"
          ]
        }
      ]
    },
    {
      "cell_type": "markdown",
      "source": [
        "### **Build GMM-only oversampled training set (minority -> match original majority)**"
      ],
      "metadata": {
        "id": "6x6pXx_oXBIS"
      }
    },
    {
      "cell_type": "code",
      "source": [
        "# --- Create a GMM-only oversampled dataset where minority is oversampled to match the original majority ---\n",
        "# We assume best_gmm and scaler were created in Part B. If not, you'll need to run Part B first.\n",
        "\n",
        "# Number of minority samples in training set (original)\n",
        "n_min = len(X_train[y_train == 1])\n",
        "n_maj_original = len(X_train[y_train == 0])\n",
        "\n",
        "# How many synthetic samples to generate so minority_total == original majority size\n",
        "n_needed_gmm_only = max(0, n_maj_original - n_min)\n",
        "print(\"Original minority:\", n_min, \"Original majority:\", n_maj_original)\n",
        "print(\"Synthetic to generate for GMM-only:\", n_needed_gmm_only)\n",
        "\n",
        "# Generate synthetic points from the best_gmm (in scaled space) and inverse transform\n",
        "if n_needed_gmm_only > 0:\n",
        "    sampled_s_go, _ = best_gmm.sample(n_samples=n_needed_gmm_only)\n",
        "    sampled_go = scaler.inverse_transform(sampled_s_go)\n",
        "    sampled_go_df = pd.DataFrame(sampled_go, columns=X_train.columns)\n",
        "else:\n",
        "    sampled_go_df = pd.DataFrame(columns=X_train.columns)\n",
        "\n",
        "# Combine with original minority rows to form oversampled minority set\n",
        "orig_min_df = X_train[y_train == 1].reset_index(drop=True)\n",
        "gmm_oversampled_minority = pd.concat([orig_min_df, sampled_go_df], ignore_index=True)\n",
        "\n",
        "# Combine with full original majority (no undersampling)\n",
        "gmm_only_X_train = pd.concat([X_train[y_train == 0].reset_index(drop=True), gmm_oversampled_minority], ignore_index=True)\n",
        "gmm_only_y_train = pd.Series([0]* (n_maj_original) + [1]* (gmm_oversampled_minority.shape[0]))\n",
        "\n",
        "print(\"GMM-only training set shape:\", gmm_only_X_train.shape)\n",
        "print(\"Class counts (GMM-only):\", gmm_only_y_train.value_counts().to_dict())\n"
      ],
      "metadata": {
        "colab": {
          "base_uri": "https://localhost:8080/"
        },
        "id": "wqGbEy3aW-z2",
        "outputId": "12b4be5d-1108-464b-972c-7cdd51f502a0"
      },
      "execution_count": 54,
      "outputs": [
        {
          "output_type": "stream",
          "name": "stdout",
          "text": [
            "Original minority: 344 Original majority: 199020\n",
            "Synthetic to generate for GMM-only: 198676\n",
            "GMM-only training set shape: (398040, 30)\n",
            "Class counts (GMM-only): {0: 199020, 1: 199020}\n"
          ]
        }
      ]
    },
    {
      "cell_type": "markdown",
      "source": [
        "### **Train logistic models on the two GMM-balanced versions**"
      ],
      "metadata": {
        "id": "T14uLlffXIrC"
      }
    },
    {
      "cell_type": "code",
      "source": [
        "from sklearn.linear_model import LogisticRegression\n",
        "import time\n",
        "\n",
        "# Model 1: Baseline (log_reg) — already trained on imbalanced (kept as-is)\n",
        "# Model 2: GMM-only oversampling (train new)\n",
        "gmm_only_clf = LogisticRegression(max_iter=1000, random_state=42)\n",
        "t0 = time.time()\n",
        "gmm_only_clf.fit(gmm_only_X_train, gmm_only_y_train)\n",
        "t1 = time.time()\n",
        "print(f\"GMM-only LogisticRegression trained in {t1 - t0:.2f}s\")\n",
        "\n",
        "# Model 3: GMM + CBU balanced set (balanced_X_train, balanced_y_train) from Part B\n",
        "# Ensure balanced_X_train and balanced_y_train exist\n",
        "try:\n",
        "    balanced_X_train\n",
        "    balanced_y_train\n",
        "except NameError:\n",
        "    raise RuntimeError(\"balanced_X_train / balanced_y_train not found. Please run Part B cells first.\")\n",
        "\n",
        "gmm_cbu_clf = LogisticRegression(max_iter=1000, random_state=42)\n",
        "t0 = time.time()\n",
        "gmm_cbu_clf.fit(balanced_X_train, balanced_y_train)\n",
        "t1 = time.time()\n",
        "print(f\"GMM+CBU LogisticRegression trained in {t1 - t0:.2f}s\")\n"
      ],
      "metadata": {
        "colab": {
          "base_uri": "https://localhost:8080/"
        },
        "id": "0DN-SBBVXOcf",
        "outputId": "3cede841-0031-461c-cc24-c90869ae80f8"
      },
      "execution_count": 55,
      "outputs": [
        {
          "output_type": "stream",
          "name": "stderr",
          "text": [
            "/usr/local/lib/python3.12/dist-packages/sklearn/linear_model/_logistic.py:465: ConvergenceWarning: lbfgs failed to converge (status=1):\n",
            "STOP: TOTAL NO. OF ITERATIONS REACHED LIMIT.\n",
            "\n",
            "Increase the number of iterations (max_iter) or scale the data as shown in:\n",
            "    https://scikit-learn.org/stable/modules/preprocessing.html\n",
            "Please also refer to the documentation for alternative solver options:\n",
            "    https://scikit-learn.org/stable/modules/linear_model.html#logistic-regression\n",
            "  n_iter_i = _check_optimize_result(\n"
          ]
        },
        {
          "output_type": "stream",
          "name": "stdout",
          "text": [
            "GMM-only LogisticRegression trained in 116.37s\n",
            "GMM+CBU LogisticRegression trained in 1.67s\n"
          ]
        },
        {
          "output_type": "stream",
          "name": "stderr",
          "text": [
            "/usr/local/lib/python3.12/dist-packages/sklearn/linear_model/_logistic.py:465: ConvergenceWarning: lbfgs failed to converge (status=1):\n",
            "STOP: TOTAL NO. OF ITERATIONS REACHED LIMIT.\n",
            "\n",
            "Increase the number of iterations (max_iter) or scale the data as shown in:\n",
            "    https://scikit-learn.org/stable/modules/preprocessing.html\n",
            "Please also refer to the documentation for alternative solver options:\n",
            "    https://scikit-learn.org/stable/modules/linear_model.html#logistic-regression\n",
            "  n_iter_i = _check_optimize_result(\n"
          ]
        }
      ]
    },
    {
      "cell_type": "markdown",
      "source": [
        "### **Evaluate all models on original imbalanced test set**"
      ],
      "metadata": {
        "id": "0chklrRKXTTA"
      }
    },
    {
      "cell_type": "code",
      "source": [
        "# --- Evaluate baseline, GMM-only, and GMM+CBU on X_test / y_test ---\n",
        "from sklearn.metrics import (\n",
        "    classification_report,\n",
        "    confusion_matrix,\n",
        "    precision_recall_fscore_support,\n",
        "    roc_auc_score,\n",
        "    average_precision_score\n",
        ")\n",
        "import numpy as np\n",
        "\n",
        "# Helper to compute metrics and store them\n",
        "def evaluate_model(clf, X_test, y_test):\n",
        "    # Get predictions and predicted probabilities\n",
        "    y_pred = clf.predict(X_test)\n",
        "    # For ROC/PR AUC, get probability for positive class if available\n",
        "    if hasattr(clf, \"predict_proba\"):\n",
        "        y_prob = clf.predict_proba(X_test)[:, 1]\n",
        "    elif hasattr(clf, \"decision_function\"):\n",
        "        y_prob = clf.decision_function(X_test)\n",
        "        # decision_function may not be in [0,1], but roc_auc_score accepts it\n",
        "    else:\n",
        "        y_prob = None\n",
        "\n",
        "    # Confusion matrix\n",
        "    cm = confusion_matrix(y_test, y_pred)\n",
        "    # Precision, Recall, F1 (for class 1)\n",
        "    prec, rec, f1, _ = precision_recall_fscore_support(y_test, y_pred, labels=[1], average='binary', zero_division=0)\n",
        "    # ROC AUC and PR AUC if probabilities available\n",
        "    roc_auc = roc_auc_score(y_test, y_prob) if y_prob is not None else np.nan\n",
        "    pr_auc = average_precision_score(y_test, y_prob) if y_prob is not None else np.nan\n",
        "\n",
        "    return {\n",
        "        \"precision\": prec,\n",
        "        \"recall\": rec,\n",
        "        \"f1\": f1,\n",
        "        \"confusion_matrix\": cm,\n",
        "        \"roc_auc\": roc_auc,\n",
        "        \"pr_auc\": pr_auc\n",
        "    }\n",
        "\n",
        "# Evaluate baseline\n",
        "baseline_metrics = evaluate_model(log_reg, X_test, y_test)\n",
        "print(\"Baseline metrics (minority class):\")\n",
        "print(f\" Precision: {baseline_metrics['precision']:.4f}, Recall: {baseline_metrics['recall']:.4f}, F1: {baseline_metrics['f1']:.4f}\")\n",
        "print(\" Confusion Matrix:\\n\", baseline_metrics['confusion_matrix'])\n",
        "\n",
        "# Evaluate GMM-only\n",
        "gmm_only_metrics = evaluate_model(gmm_only_clf, X_test, y_test)\n",
        "print(\"\\nGMM-only metrics (minority class):\")\n",
        "print(f\" Precision: {gmm_only_metrics['precision']:.4f}, Recall: {gmm_only_metrics['recall']:.4f}, F1: {gmm_only_metrics['f1']:.4f}\")\n",
        "print(\" Confusion Matrix:\\n\", gmm_only_metrics['confusion_matrix'])\n",
        "\n",
        "# Evaluate GMM+CBU\n",
        "gmm_cbu_metrics = evaluate_model(gmm_cbu_clf, X_test, y_test)\n",
        "print(\"\\nGMM+CBU metrics (minority class):\")\n",
        "print(f\" Precision: {gmm_cbu_metrics['precision']:.4f}, Recall: {gmm_cbu_metrics['recall']:.4f}, F1: {gmm_cbu_metrics['f1']:.4f}\")\n",
        "print(\" Confusion Matrix:\\n\", gmm_cbu_metrics['confusion_matrix'])\n"
      ],
      "metadata": {
        "colab": {
          "base_uri": "https://localhost:8080/"
        },
        "id": "41OMxXjhXTEC",
        "outputId": "c8e32992-2a15-459a-8d68-179a4b5e5cf9"
      },
      "execution_count": 56,
      "outputs": [
        {
          "output_type": "stream",
          "name": "stdout",
          "text": [
            "Baseline metrics (minority class):\n",
            " Precision: 0.8362, Recall: 0.6554, F1: 0.7348\n",
            " Confusion Matrix:\n",
            " [[85276    19]\n",
            " [   51    97]]\n",
            "\n",
            "GMM-only metrics (minority class):\n",
            " Precision: 0.0642, Recall: 0.8716, F1: 0.1197\n",
            " Confusion Matrix:\n",
            " [[83416  1879]\n",
            " [   19   129]]\n",
            "\n",
            "GMM+CBU metrics (minority class):\n",
            " Precision: 0.0646, Recall: 0.8649, F1: 0.1202\n",
            " Confusion Matrix:\n",
            " [[83441  1854]\n",
            " [   20   128]]\n"
          ]
        }
      ]
    },
    {
      "cell_type": "markdown",
      "source": [
        "### **Create summary table and bar chart comparing metrics**"
      ],
      "metadata": {
        "id": "LmoaGWEkXeQy"
      }
    },
    {
      "cell_type": "code",
      "source": [
        "# --- Create a summary DataFrame with Precision / Recall / F1 / ROC-AUC / PR-AUC ---\n",
        "import pandas as pd\n",
        "import matplotlib.pyplot as plt\n",
        "\n",
        "results = pd.DataFrame({\n",
        "    \"model\": [\"Baseline (imbalanced)\", \"GMM-only oversample\", \"GMM + CBU\"],\n",
        "    \"precision\": [baseline_metrics['precision'], gmm_only_metrics['precision'], gmm_cbu_metrics['precision']],\n",
        "    \"recall\":    [baseline_metrics['recall'],    gmm_only_metrics['recall'],    gmm_cbu_metrics['recall']],\n",
        "    \"f1\":        [baseline_metrics['f1'],        gmm_only_metrics['f1'],        gmm_cbu_metrics['f1']],\n",
        "    \"roc_auc\":   [baseline_metrics['roc_auc'],   gmm_only_metrics['roc_auc'],   gmm_cbu_metrics['roc_auc']],\n",
        "    \"pr_auc\":    [baseline_metrics['pr_auc'],    gmm_only_metrics['pr_auc'],    gmm_cbu_metrics['pr_auc']]\n",
        "})\n",
        "\n",
        "# Display table\n",
        "print(\"Summary results (minority class metrics):\")\n",
        "display(results)\n",
        "\n",
        "# Bar chart for Precision/Recall/F1\n",
        "metrics_to_plot = [\"precision\", \"recall\", \"f1\"]\n",
        "x = np.arange(len(results['model']))\n",
        "width = 0.25\n",
        "\n",
        "plt.figure(figsize=(10,5))\n",
        "plt.bar(x - width, results['precision'], width, label='Precision')\n",
        "plt.bar(x, results['recall'], width, label='Recall')\n",
        "plt.bar(x + width, results['f1'], width, label='F1-score')\n",
        "plt.xticks(x, results['model'], rotation=20)\n",
        "plt.ylabel(\"Score\")\n",
        "plt.ylim(0, 1.0)\n",
        "plt.title(\"Comparison of minority-class metrics (fraud=1)\")\n",
        "plt.legend()\n",
        "plt.tight_layout()\n",
        "plt.show()\n",
        "\n",
        "# Optional: plot ROC AUC and PR-AUC side-by-side\n",
        "plt.figure(figsize=(8,4))\n",
        "plt.bar(results['model'], results['pr_auc'])\n",
        "plt.ylabel(\"PR AUC (average precision)\")\n",
        "plt.title(\"PR AUC Comparison\")\n",
        "plt.xticks(rotation=20)\n",
        "plt.tight_layout()\n",
        "plt.show()\n"
      ],
      "metadata": {
        "colab": {
          "base_uri": "https://localhost:8080/",
          "height": 1000
        },
        "id": "r6R0k3_gXjfL",
        "outputId": "53dff67e-6c8c-475d-91de-5e28388b090b"
      },
      "execution_count": 57,
      "outputs": [
        {
          "output_type": "stream",
          "name": "stdout",
          "text": [
            "Summary results (minority class metrics):\n"
          ]
        },
        {
          "output_type": "display_data",
          "data": {
            "text/plain": [
              "                   model  precision    recall        f1   roc_auc    pr_auc\n",
              "0  Baseline (imbalanced)   0.836207  0.655405  0.734848  0.934336  0.679279\n",
              "1    GMM-only oversample   0.064243  0.871622  0.119666  0.969305  0.670412\n",
              "2              GMM + CBU   0.064581  0.864865  0.120188  0.965249  0.686738"
            ],
            "text/html": [
              "\n",
              "  <div id=\"df-0fae3676-22c6-4b20-95e2-04080884e96a\" class=\"colab-df-container\">\n",
              "    <div>\n",
              "<style scoped>\n",
              "    .dataframe tbody tr th:only-of-type {\n",
              "        vertical-align: middle;\n",
              "    }\n",
              "\n",
              "    .dataframe tbody tr th {\n",
              "        vertical-align: top;\n",
              "    }\n",
              "\n",
              "    .dataframe thead th {\n",
              "        text-align: right;\n",
              "    }\n",
              "</style>\n",
              "<table border=\"1\" class=\"dataframe\">\n",
              "  <thead>\n",
              "    <tr style=\"text-align: right;\">\n",
              "      <th></th>\n",
              "      <th>model</th>\n",
              "      <th>precision</th>\n",
              "      <th>recall</th>\n",
              "      <th>f1</th>\n",
              "      <th>roc_auc</th>\n",
              "      <th>pr_auc</th>\n",
              "    </tr>\n",
              "  </thead>\n",
              "  <tbody>\n",
              "    <tr>\n",
              "      <th>0</th>\n",
              "      <td>Baseline (imbalanced)</td>\n",
              "      <td>0.836207</td>\n",
              "      <td>0.655405</td>\n",
              "      <td>0.734848</td>\n",
              "      <td>0.934336</td>\n",
              "      <td>0.679279</td>\n",
              "    </tr>\n",
              "    <tr>\n",
              "      <th>1</th>\n",
              "      <td>GMM-only oversample</td>\n",
              "      <td>0.064243</td>\n",
              "      <td>0.871622</td>\n",
              "      <td>0.119666</td>\n",
              "      <td>0.969305</td>\n",
              "      <td>0.670412</td>\n",
              "    </tr>\n",
              "    <tr>\n",
              "      <th>2</th>\n",
              "      <td>GMM + CBU</td>\n",
              "      <td>0.064581</td>\n",
              "      <td>0.864865</td>\n",
              "      <td>0.120188</td>\n",
              "      <td>0.965249</td>\n",
              "      <td>0.686738</td>\n",
              "    </tr>\n",
              "  </tbody>\n",
              "</table>\n",
              "</div>\n",
              "    <div class=\"colab-df-buttons\">\n",
              "\n",
              "  <div class=\"colab-df-container\">\n",
              "    <button class=\"colab-df-convert\" onclick=\"convertToInteractive('df-0fae3676-22c6-4b20-95e2-04080884e96a')\"\n",
              "            title=\"Convert this dataframe to an interactive table.\"\n",
              "            style=\"display:none;\">\n",
              "\n",
              "  <svg xmlns=\"http://www.w3.org/2000/svg\" height=\"24px\" viewBox=\"0 -960 960 960\">\n",
              "    <path d=\"M120-120v-720h720v720H120Zm60-500h600v-160H180v160Zm220 220h160v-160H400v160Zm0 220h160v-160H400v160ZM180-400h160v-160H180v160Zm440 0h160v-160H620v160ZM180-180h160v-160H180v160Zm440 0h160v-160H620v160Z\"/>\n",
              "  </svg>\n",
              "    </button>\n",
              "\n",
              "  <style>\n",
              "    .colab-df-container {\n",
              "      display:flex;\n",
              "      gap: 12px;\n",
              "    }\n",
              "\n",
              "    .colab-df-convert {\n",
              "      background-color: #E8F0FE;\n",
              "      border: none;\n",
              "      border-radius: 50%;\n",
              "      cursor: pointer;\n",
              "      display: none;\n",
              "      fill: #1967D2;\n",
              "      height: 32px;\n",
              "      padding: 0 0 0 0;\n",
              "      width: 32px;\n",
              "    }\n",
              "\n",
              "    .colab-df-convert:hover {\n",
              "      background-color: #E2EBFA;\n",
              "      box-shadow: 0px 1px 2px rgba(60, 64, 67, 0.3), 0px 1px 3px 1px rgba(60, 64, 67, 0.15);\n",
              "      fill: #174EA6;\n",
              "    }\n",
              "\n",
              "    .colab-df-buttons div {\n",
              "      margin-bottom: 4px;\n",
              "    }\n",
              "\n",
              "    [theme=dark] .colab-df-convert {\n",
              "      background-color: #3B4455;\n",
              "      fill: #D2E3FC;\n",
              "    }\n",
              "\n",
              "    [theme=dark] .colab-df-convert:hover {\n",
              "      background-color: #434B5C;\n",
              "      box-shadow: 0px 1px 3px 1px rgba(0, 0, 0, 0.15);\n",
              "      filter: drop-shadow(0px 1px 2px rgba(0, 0, 0, 0.3));\n",
              "      fill: #FFFFFF;\n",
              "    }\n",
              "  </style>\n",
              "\n",
              "    <script>\n",
              "      const buttonEl =\n",
              "        document.querySelector('#df-0fae3676-22c6-4b20-95e2-04080884e96a button.colab-df-convert');\n",
              "      buttonEl.style.display =\n",
              "        google.colab.kernel.accessAllowed ? 'block' : 'none';\n",
              "\n",
              "      async function convertToInteractive(key) {\n",
              "        const element = document.querySelector('#df-0fae3676-22c6-4b20-95e2-04080884e96a');\n",
              "        const dataTable =\n",
              "          await google.colab.kernel.invokeFunction('convertToInteractive',\n",
              "                                                    [key], {});\n",
              "        if (!dataTable) return;\n",
              "\n",
              "        const docLinkHtml = 'Like what you see? Visit the ' +\n",
              "          '<a target=\"_blank\" href=https://colab.research.google.com/notebooks/data_table.ipynb>data table notebook</a>'\n",
              "          + ' to learn more about interactive tables.';\n",
              "        element.innerHTML = '';\n",
              "        dataTable['output_type'] = 'display_data';\n",
              "        await google.colab.output.renderOutput(dataTable, element);\n",
              "        const docLink = document.createElement('div');\n",
              "        docLink.innerHTML = docLinkHtml;\n",
              "        element.appendChild(docLink);\n",
              "      }\n",
              "    </script>\n",
              "  </div>\n",
              "\n",
              "\n",
              "    <div id=\"df-48f9b8d3-1729-4ef6-b3cc-b149b6a05c24\">\n",
              "      <button class=\"colab-df-quickchart\" onclick=\"quickchart('df-48f9b8d3-1729-4ef6-b3cc-b149b6a05c24')\"\n",
              "                title=\"Suggest charts\"\n",
              "                style=\"display:none;\">\n",
              "\n",
              "<svg xmlns=\"http://www.w3.org/2000/svg\" height=\"24px\"viewBox=\"0 0 24 24\"\n",
              "     width=\"24px\">\n",
              "    <g>\n",
              "        <path d=\"M19 3H5c-1.1 0-2 .9-2 2v14c0 1.1.9 2 2 2h14c1.1 0 2-.9 2-2V5c0-1.1-.9-2-2-2zM9 17H7v-7h2v7zm4 0h-2V7h2v10zm4 0h-2v-4h2v4z\"/>\n",
              "    </g>\n",
              "</svg>\n",
              "      </button>\n",
              "\n",
              "<style>\n",
              "  .colab-df-quickchart {\n",
              "      --bg-color: #E8F0FE;\n",
              "      --fill-color: #1967D2;\n",
              "      --hover-bg-color: #E2EBFA;\n",
              "      --hover-fill-color: #174EA6;\n",
              "      --disabled-fill-color: #AAA;\n",
              "      --disabled-bg-color: #DDD;\n",
              "  }\n",
              "\n",
              "  [theme=dark] .colab-df-quickchart {\n",
              "      --bg-color: #3B4455;\n",
              "      --fill-color: #D2E3FC;\n",
              "      --hover-bg-color: #434B5C;\n",
              "      --hover-fill-color: #FFFFFF;\n",
              "      --disabled-bg-color: #3B4455;\n",
              "      --disabled-fill-color: #666;\n",
              "  }\n",
              "\n",
              "  .colab-df-quickchart {\n",
              "    background-color: var(--bg-color);\n",
              "    border: none;\n",
              "    border-radius: 50%;\n",
              "    cursor: pointer;\n",
              "    display: none;\n",
              "    fill: var(--fill-color);\n",
              "    height: 32px;\n",
              "    padding: 0;\n",
              "    width: 32px;\n",
              "  }\n",
              "\n",
              "  .colab-df-quickchart:hover {\n",
              "    background-color: var(--hover-bg-color);\n",
              "    box-shadow: 0 1px 2px rgba(60, 64, 67, 0.3), 0 1px 3px 1px rgba(60, 64, 67, 0.15);\n",
              "    fill: var(--button-hover-fill-color);\n",
              "  }\n",
              "\n",
              "  .colab-df-quickchart-complete:disabled,\n",
              "  .colab-df-quickchart-complete:disabled:hover {\n",
              "    background-color: var(--disabled-bg-color);\n",
              "    fill: var(--disabled-fill-color);\n",
              "    box-shadow: none;\n",
              "  }\n",
              "\n",
              "  .colab-df-spinner {\n",
              "    border: 2px solid var(--fill-color);\n",
              "    border-color: transparent;\n",
              "    border-bottom-color: var(--fill-color);\n",
              "    animation:\n",
              "      spin 1s steps(1) infinite;\n",
              "  }\n",
              "\n",
              "  @keyframes spin {\n",
              "    0% {\n",
              "      border-color: transparent;\n",
              "      border-bottom-color: var(--fill-color);\n",
              "      border-left-color: var(--fill-color);\n",
              "    }\n",
              "    20% {\n",
              "      border-color: transparent;\n",
              "      border-left-color: var(--fill-color);\n",
              "      border-top-color: var(--fill-color);\n",
              "    }\n",
              "    30% {\n",
              "      border-color: transparent;\n",
              "      border-left-color: var(--fill-color);\n",
              "      border-top-color: var(--fill-color);\n",
              "      border-right-color: var(--fill-color);\n",
              "    }\n",
              "    40% {\n",
              "      border-color: transparent;\n",
              "      border-right-color: var(--fill-color);\n",
              "      border-top-color: var(--fill-color);\n",
              "    }\n",
              "    60% {\n",
              "      border-color: transparent;\n",
              "      border-right-color: var(--fill-color);\n",
              "    }\n",
              "    80% {\n",
              "      border-color: transparent;\n",
              "      border-right-color: var(--fill-color);\n",
              "      border-bottom-color: var(--fill-color);\n",
              "    }\n",
              "    90% {\n",
              "      border-color: transparent;\n",
              "      border-bottom-color: var(--fill-color);\n",
              "    }\n",
              "  }\n",
              "</style>\n",
              "\n",
              "      <script>\n",
              "        async function quickchart(key) {\n",
              "          const quickchartButtonEl =\n",
              "            document.querySelector('#' + key + ' button');\n",
              "          quickchartButtonEl.disabled = true;  // To prevent multiple clicks.\n",
              "          quickchartButtonEl.classList.add('colab-df-spinner');\n",
              "          try {\n",
              "            const charts = await google.colab.kernel.invokeFunction(\n",
              "                'suggestCharts', [key], {});\n",
              "          } catch (error) {\n",
              "            console.error('Error during call to suggestCharts:', error);\n",
              "          }\n",
              "          quickchartButtonEl.classList.remove('colab-df-spinner');\n",
              "          quickchartButtonEl.classList.add('colab-df-quickchart-complete');\n",
              "        }\n",
              "        (() => {\n",
              "          let quickchartButtonEl =\n",
              "            document.querySelector('#df-48f9b8d3-1729-4ef6-b3cc-b149b6a05c24 button');\n",
              "          quickchartButtonEl.style.display =\n",
              "            google.colab.kernel.accessAllowed ? 'block' : 'none';\n",
              "        })();\n",
              "      </script>\n",
              "    </div>\n",
              "\n",
              "  <div id=\"id_699febc4-4a7e-4503-923b-5c9d51c114a4\">\n",
              "    <style>\n",
              "      .colab-df-generate {\n",
              "        background-color: #E8F0FE;\n",
              "        border: none;\n",
              "        border-radius: 50%;\n",
              "        cursor: pointer;\n",
              "        display: none;\n",
              "        fill: #1967D2;\n",
              "        height: 32px;\n",
              "        padding: 0 0 0 0;\n",
              "        width: 32px;\n",
              "      }\n",
              "\n",
              "      .colab-df-generate:hover {\n",
              "        background-color: #E2EBFA;\n",
              "        box-shadow: 0px 1px 2px rgba(60, 64, 67, 0.3), 0px 1px 3px 1px rgba(60, 64, 67, 0.15);\n",
              "        fill: #174EA6;\n",
              "      }\n",
              "\n",
              "      [theme=dark] .colab-df-generate {\n",
              "        background-color: #3B4455;\n",
              "        fill: #D2E3FC;\n",
              "      }\n",
              "\n",
              "      [theme=dark] .colab-df-generate:hover {\n",
              "        background-color: #434B5C;\n",
              "        box-shadow: 0px 1px 3px 1px rgba(0, 0, 0, 0.15);\n",
              "        filter: drop-shadow(0px 1px 2px rgba(0, 0, 0, 0.3));\n",
              "        fill: #FFFFFF;\n",
              "      }\n",
              "    </style>\n",
              "    <button class=\"colab-df-generate\" onclick=\"generateWithVariable('results')\"\n",
              "            title=\"Generate code using this dataframe.\"\n",
              "            style=\"display:none;\">\n",
              "\n",
              "  <svg xmlns=\"http://www.w3.org/2000/svg\" height=\"24px\"viewBox=\"0 0 24 24\"\n",
              "       width=\"24px\">\n",
              "    <path d=\"M7,19H8.4L18.45,9,17,7.55,7,17.6ZM5,21V16.75L18.45,3.32a2,2,0,0,1,2.83,0l1.4,1.43a1.91,1.91,0,0,1,.58,1.4,1.91,1.91,0,0,1-.58,1.4L9.25,21ZM18.45,9,17,7.55Zm-12,3A5.31,5.31,0,0,0,4.9,8.1,5.31,5.31,0,0,0,1,6.5,5.31,5.31,0,0,0,4.9,4.9,5.31,5.31,0,0,0,6.5,1,5.31,5.31,0,0,0,8.1,4.9,5.31,5.31,0,0,0,12,6.5,5.46,5.46,0,0,0,6.5,12Z\"/>\n",
              "  </svg>\n",
              "    </button>\n",
              "    <script>\n",
              "      (() => {\n",
              "      const buttonEl =\n",
              "        document.querySelector('#id_699febc4-4a7e-4503-923b-5c9d51c114a4 button.colab-df-generate');\n",
              "      buttonEl.style.display =\n",
              "        google.colab.kernel.accessAllowed ? 'block' : 'none';\n",
              "\n",
              "      buttonEl.onclick = () => {\n",
              "        google.colab.notebook.generateWithVariable('results');\n",
              "      }\n",
              "      })();\n",
              "    </script>\n",
              "  </div>\n",
              "\n",
              "    </div>\n",
              "  </div>\n"
            ],
            "application/vnd.google.colaboratory.intrinsic+json": {
              "type": "dataframe",
              "variable_name": "results",
              "summary": "{\n  \"name\": \"results\",\n  \"rows\": 3,\n  \"fields\": [\n    {\n      \"column\": \"model\",\n      \"properties\": {\n        \"dtype\": \"string\",\n        \"num_unique_values\": 3,\n        \"samples\": [\n          \"Baseline (imbalanced)\",\n          \"GMM-only oversample\",\n          \"GMM + CBU\"\n        ],\n        \"semantic_type\": \"\",\n        \"description\": \"\"\n      }\n    },\n    {\n      \"column\": \"precision\",\n      \"properties\": {\n        \"dtype\": \"number\",\n        \"std\": 0.44559594861228446,\n        \"min\": 0.06424302788844621,\n        \"max\": 0.8362068965517241,\n        \"num_unique_values\": 3,\n        \"samples\": [\n          0.8362068965517241,\n          0.06424302788844621,\n          0.06458123107971746\n        ],\n        \"semantic_type\": \"\",\n        \"description\": \"\"\n      }\n    },\n    {\n      \"column\": \"recall\",\n      \"properties\": {\n        \"dtype\": \"number\",\n        \"std\": 0.12292841485581253,\n        \"min\": 0.6554054054054054,\n        \"max\": 0.8716216216216216,\n        \"num_unique_values\": 3,\n        \"samples\": [\n          0.6554054054054054,\n          0.8716216216216216,\n          0.8648648648648649\n        ],\n        \"semantic_type\": \"\",\n        \"description\": \"\"\n      }\n    },\n    {\n      \"column\": \"f1\",\n      \"properties\": {\n        \"dtype\": \"number\",\n        \"std\": 0.35502522635984496,\n        \"min\": 0.11966604823747681,\n        \"max\": 0.7348484848484849,\n        \"num_unique_values\": 3,\n        \"samples\": [\n          0.7348484848484849,\n          0.11966604823747681,\n          0.12018779342723004\n        ],\n        \"semantic_type\": \"\",\n        \"description\": \"\"\n      }\n    },\n    {\n      \"column\": \"roc_auc\",\n      \"properties\": {\n        \"dtype\": \"number\",\n        \"std\": 0.019126334844565822,\n        \"min\": 0.9343360008111752,\n        \"max\": 0.9693051777376768,\n        \"num_unique_values\": 3,\n        \"samples\": [\n          0.9343360008111752,\n          0.9693051777376768,\n          0.9652488264100901\n        ],\n        \"semantic_type\": \"\",\n        \"description\": \"\"\n      }\n    },\n    {\n      \"column\": \"pr_auc\",\n      \"properties\": {\n        \"dtype\": \"number\",\n        \"std\": 0.008173314547771182,\n        \"min\": 0.670411859647138,\n        \"max\": 0.6867382426632398,\n        \"num_unique_values\": 3,\n        \"samples\": [\n          0.6792794127804082,\n          0.670411859647138,\n          0.6867382426632398\n        ],\n        \"semantic_type\": \"\",\n        \"description\": \"\"\n      }\n    }\n  ]\n}"
            }
          },
          "metadata": {}
        },
        {
          "output_type": "display_data",
          "data": {
            "text/plain": [
              "<Figure size 1000x500 with 1 Axes>"
            ],
            "image/png": "[encoded data removed]"
          },
          "metadata": {}
        },
        {
          "output_type": "display_data",
          "data": {
            "text/plain": [
              "<Figure size 800x400 with 1 Axes>"
            ],
            "image/png": "[encoded data removed]"
          },
          "metadata": {}
        }
      ]
    },
    {
      "cell_type": "markdown",
      "source": [
        " **Comparative Analysis**\n",
        "\n",
        "- The table and bar chart above compare Precision, Recall, and F1 for the minority (fraud=1) class across:\n",
        "  Baseline (imbalanced), GMM-only oversampling, and GMM+CBU.\n",
        "\n",
        "- Key points to examine:\n",
        "  - Did Recall (ability to find frauds) improve? This is often the most important metric in fraud detection.\n",
        "  - What happened to Precision (false positive rate)? Large gains in recall sometimes reduce precision.\n",
        "  - F1 balances precision and recall and is useful for overall comparison.\n",
        "- Also check PR AUC (average precision) — this summarizes precision vs recall across thresholds.\n"
      ],
      "metadata": {
        "id": "zK0K_HHlXnY5"
      }
    },
    {
      "cell_type": "markdown",
      "source": [
        "**Final Recommendation**\n",
        "\n",
        "- If GMM-based oversampling (either GMM-only or GMM+CBU) increases Recall and F1 without unacceptable loss of Precision, it is beneficial for fraud detection because catching more frauds is the priority.\n",
        "- **GMM is recommended** when the minority class appears multimodal or shows complex covariance structure (it then generates realistic synthetic samples).\n",
        "- Between GMM-only and GMM+CBU:\n",
        "  - GMM-only keeps full majority information but can lead to a very large training set (costly).\n",
        "  - GMM+CBU reduces majority redundancy while preserving diversity — often a practical compromise.\n",
        "- Final choice depends on results: prefer the model with best Recall/F1 for the minority while keeping Precision at an acceptable level.\n"
      ],
      "metadata": {
        "id": "Fq3Qj4y7Xq9U"
      }
    }
  ]
}